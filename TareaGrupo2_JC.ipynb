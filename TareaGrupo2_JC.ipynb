{
 "cells": [
  {
   "cell_type": "code",
   "execution_count": 2,
   "metadata": {},
   "outputs": [
    {
     "data": {
      "text/html": [
       "<div>\n",
       "<style scoped>\n",
       "    .dataframe tbody tr th:only-of-type {\n",
       "        vertical-align: middle;\n",
       "    }\n",
       "\n",
       "    .dataframe tbody tr th {\n",
       "        vertical-align: top;\n",
       "    }\n",
       "\n",
       "    .dataframe thead th {\n",
       "        text-align: right;\n",
       "    }\n",
       "</style>\n",
       "<table border=\"1\" class=\"dataframe\">\n",
       "  <thead>\n",
       "    <tr style=\"text-align: right;\">\n",
       "      <th></th>\n",
       "      <th>Yr</th>\n",
       "      <th>Mn</th>\n",
       "      <th>Date</th>\n",
       "      <th>CO2</th>\n",
       "    </tr>\n",
       "  </thead>\n",
       "  <tbody>\n",
       "    <tr>\n",
       "      <th>0</th>\n",
       "      <td>1957</td>\n",
       "      <td>3</td>\n",
       "      <td>1957.2027</td>\n",
       "      <td>315.45</td>\n",
       "    </tr>\n",
       "    <tr>\n",
       "      <th>1</th>\n",
       "      <td>1957</td>\n",
       "      <td>4</td>\n",
       "      <td>1957.2877</td>\n",
       "      <td>315.74</td>\n",
       "    </tr>\n",
       "    <tr>\n",
       "      <th>2</th>\n",
       "      <td>1957</td>\n",
       "      <td>5</td>\n",
       "      <td>1957.3699</td>\n",
       "      <td>315.84</td>\n",
       "    </tr>\n",
       "    <tr>\n",
       "      <th>3</th>\n",
       "      <td>1957</td>\n",
       "      <td>6</td>\n",
       "      <td>1957.4548</td>\n",
       "      <td>315.28</td>\n",
       "    </tr>\n",
       "    <tr>\n",
       "      <th>4</th>\n",
       "      <td>1957</td>\n",
       "      <td>7</td>\n",
       "      <td>1957.5370</td>\n",
       "      <td>-99.99</td>\n",
       "    </tr>\n",
       "    <tr>\n",
       "      <th>...</th>\n",
       "      <td>...</td>\n",
       "      <td>...</td>\n",
       "      <td>...</td>\n",
       "      <td>...</td>\n",
       "    </tr>\n",
       "    <tr>\n",
       "      <th>758</th>\n",
       "      <td>2020</td>\n",
       "      <td>5</td>\n",
       "      <td>2020.3716</td>\n",
       "      <td>418.17</td>\n",
       "    </tr>\n",
       "    <tr>\n",
       "      <th>759</th>\n",
       "      <td>2020</td>\n",
       "      <td>6</td>\n",
       "      <td>2020.4563</td>\n",
       "      <td>416.11</td>\n",
       "    </tr>\n",
       "    <tr>\n",
       "      <th>760</th>\n",
       "      <td>2020</td>\n",
       "      <td>7</td>\n",
       "      <td>2020.5383</td>\n",
       "      <td>407.54</td>\n",
       "    </tr>\n",
       "    <tr>\n",
       "      <th>761</th>\n",
       "      <td>2020</td>\n",
       "      <td>8</td>\n",
       "      <td>2020.6230</td>\n",
       "      <td>406.61</td>\n",
       "    </tr>\n",
       "    <tr>\n",
       "      <th>762</th>\n",
       "      <td>2020</td>\n",
       "      <td>9</td>\n",
       "      <td>2020.7077</td>\n",
       "      <td>410.87</td>\n",
       "    </tr>\n",
       "  </tbody>\n",
       "</table>\n",
       "<p>763 rows × 4 columns</p>\n",
       "</div>"
      ],
      "text/plain": [
       "       Yr  Mn       Date     CO2\n",
       "0    1957   3  1957.2027  315.45\n",
       "1    1957   4  1957.2877  315.74\n",
       "2    1957   5  1957.3699  315.84\n",
       "3    1957   6  1957.4548  315.28\n",
       "4    1957   7  1957.5370  -99.99\n",
       "..    ...  ..        ...     ...\n",
       "758  2020   5  2020.3716  418.17\n",
       "759  2020   6  2020.4563  416.11\n",
       "760  2020   7  2020.5383  407.54\n",
       "761  2020   8  2020.6230  406.61\n",
       "762  2020   9  2020.7077  410.87\n",
       "\n",
       "[763 rows x 4 columns]"
      ]
     },
     "execution_count": 2,
     "metadata": {},
     "output_type": "execute_result"
    }
   ],
   "source": [
    "import pandas as pd\n",
    "#Importamos los datos del dataset \n",
    "data = pd.read_csv('Grupo_2_data_CO2_short.csv')\n",
    "\n",
    "#Eliminamos los espacios en blancos en los nombres de las columnas para facilitar la manipulación de los datos\n",
    "nombre_colum= list(data.columns.values)\n",
    "for i in range(len(nombre_colum)):\n",
    "    nombre_colum[i]=nombre_colum[i].strip() \n",
    "data.columns = nombre_colum\n",
    "#Mostramos los datos\n",
    "data"
   ]
  },
  {
   "cell_type": "markdown",
   "metadata": {},
   "source": [
    "Condiciones de los datos: \n",
    "\n",
    "Identifique el intervalo de tiempo continuo (meses consecutivos) más extenso que cumple tres condiciones:\n",
    "\n",
    "- El intervalo termina con la última observación de Septiembre 2020 (último dato del intervalo)\n",
    "- El intervalo comienza con una observación con un dato válido de CO2 (condición 1 para el primer dato)\n",
    "- En todo el intervalo más del 95% de las observaciones tienen un dato de CO2 válido (condición 2)"
   ]
  },
  {
   "cell_type": "code",
   "execution_count": 3,
   "metadata": {},
   "outputs": [
    {
     "name": "stdout",
     "output_type": "stream",
     "text": [
      "Yr      0\n",
      "Mn      0\n",
      "Date    0\n",
      "CO2     0\n",
      "dtype: int64\n",
      "Cantidad total de valores nulos  0\n"
     ]
    }
   ],
   "source": [
    "#verificación de existencia de valores nulos\n",
    "print(data.isnull().sum()) \n",
    "print(\"Cantidad total de valores nulos \", data.isnull().sum().sum()) "
   ]
  },
  {
   "cell_type": "code",
   "execution_count": 4,
   "metadata": {},
   "outputs": [
    {
     "name": "stdout",
     "output_type": "stream",
     "text": [
      "Yr      2020.0000\n",
      "Mn         9.0000\n",
      "Date    2020.7077\n",
      "CO2      410.8700\n",
      "Name: 762, dtype: float64\n"
     ]
    }
   ],
   "source": [
    "#Atendiendo la condición 1, el último dato del dataset coincide con la última observación del 2020\n",
    "data.loc[data['Mn'] == 9 ]\n",
    "print(data.iloc[762])\n"
   ]
  },
  {
   "cell_type": "code",
   "execution_count": 5,
   "metadata": {},
   "outputs": [
    {
     "name": "stdout",
     "output_type": "stream",
     "text": [
      "Intervalo final: \n",
      "        Yr  Mn       Date     CO2\n",
      "292  1981   7  1981.5370  337.94\n",
      "293  1981   8  1981.6219  336.44\n",
      "294  1981   9  1981.7068  -99.99\n",
      "295  1981  10  1981.7890  339.23\n",
      "296  1981  11  1981.8740  340.16\n",
      "..    ...  ..        ...     ...\n",
      "758  2020   5  2020.3716  418.17\n",
      "759  2020   6  2020.4563  416.11\n",
      "760  2020   7  2020.5383  407.54\n",
      "761  2020   8  2020.6230  406.61\n",
      "762  2020   9  2020.7077  410.87\n",
      "\n",
      "[471 rows x 4 columns]\n"
     ]
    }
   ],
   "source": [
    "#Creación de la dataset con la cual vamos a trabajar.\n",
    "\n",
    "pos=0; neg=0; por=0\n",
    "\n",
    "#Recorremos todos los datos del dataset\n",
    "for i in range(len(data)):\n",
    "  #Primera condición, se crea el intervalo siempre y cuando CO2 sea un dato válido\n",
    "  if data.CO2.values[i] > 0: \n",
    "    #Creo el intervalo desde la posición 'i' hasta la última posición del dataset (2da condición)\n",
    "    intervalo=data[i:]\n",
    "    #Recorro los datos del intervalo recién creado contando los valores positivos y negativos\n",
    "    for j in range(len(intervalo)): \n",
    "        #Si el dato en la posición 'j' es mayor que 0, sumo 1 a la variable pos\n",
    "        if intervalo.CO2.values[j] >= 0:\n",
    "            pos=pos + 1\n",
    "        #Si el dato es negativo, sumo 1 a la variable neg\n",
    "        else:\n",
    "            neg=neg+1\n",
    "    #Calculo porcentaje de los valores pos\n",
    "    por= (pos / (pos+neg) )*100\n",
    "    #Reinicio contadores\n",
    "    pos=0; neg=0; \n",
    "    #Comprobamos la 3ra condición, apenas se cumpla que el porcentaje 'por' es mayor que 94, se guarda el dataset en la posición 'i' y se detiene el bloque\n",
    "    if por >= 94:\n",
    "        data_f=data[i:]\n",
    "        break \n",
    "print('Intervalo final: \\n', data_f)\n",
    "             "
   ]
  },
  {
   "cell_type": "code",
   "execution_count": 6,
   "metadata": {},
   "outputs": [
    {
     "name": "stderr",
     "output_type": "stream",
     "text": [
      "C:\\Users\\Javiera Carrasco\\AppData\\Local\\Temp\\ipykernel_30220\\1912727356.py:2: SettingWithCopyWarning: \n",
      "A value is trying to be set on a copy of a slice from a DataFrame.\n",
      "Try using .loc[row_indexer,col_indexer] = value instead\n",
      "\n",
      "See the caveats in the documentation: https://pandas.pydata.org/pandas-docs/stable/user_guide/indexing.html#returning-a-view-versus-a-copy\n",
      "  data_f['newCO2']= data_f.CO2.values\n"
     ]
    },
    {
     "data": {
      "text/html": [
       "<div>\n",
       "<style scoped>\n",
       "    .dataframe tbody tr th:only-of-type {\n",
       "        vertical-align: middle;\n",
       "    }\n",
       "\n",
       "    .dataframe tbody tr th {\n",
       "        vertical-align: top;\n",
       "    }\n",
       "\n",
       "    .dataframe thead th {\n",
       "        text-align: right;\n",
       "    }\n",
       "</style>\n",
       "<table border=\"1\" class=\"dataframe\">\n",
       "  <thead>\n",
       "    <tr style=\"text-align: right;\">\n",
       "      <th></th>\n",
       "      <th>Yr</th>\n",
       "      <th>Mn</th>\n",
       "      <th>Date</th>\n",
       "      <th>CO2</th>\n",
       "      <th>newCO2</th>\n",
       "    </tr>\n",
       "  </thead>\n",
       "  <tbody>\n",
       "    <tr>\n",
       "      <th>292</th>\n",
       "      <td>1981</td>\n",
       "      <td>7</td>\n",
       "      <td>1981.5370</td>\n",
       "      <td>337.94</td>\n",
       "      <td>337.94</td>\n",
       "    </tr>\n",
       "    <tr>\n",
       "      <th>293</th>\n",
       "      <td>1981</td>\n",
       "      <td>8</td>\n",
       "      <td>1981.6219</td>\n",
       "      <td>336.44</td>\n",
       "      <td>336.44</td>\n",
       "    </tr>\n",
       "    <tr>\n",
       "      <th>294</th>\n",
       "      <td>1981</td>\n",
       "      <td>9</td>\n",
       "      <td>1981.7068</td>\n",
       "      <td>-99.99</td>\n",
       "      <td>-99.99</td>\n",
       "    </tr>\n",
       "    <tr>\n",
       "      <th>295</th>\n",
       "      <td>1981</td>\n",
       "      <td>10</td>\n",
       "      <td>1981.7890</td>\n",
       "      <td>339.23</td>\n",
       "      <td>339.23</td>\n",
       "    </tr>\n",
       "    <tr>\n",
       "      <th>296</th>\n",
       "      <td>1981</td>\n",
       "      <td>11</td>\n",
       "      <td>1981.8740</td>\n",
       "      <td>340.16</td>\n",
       "      <td>340.16</td>\n",
       "    </tr>\n",
       "    <tr>\n",
       "      <th>...</th>\n",
       "      <td>...</td>\n",
       "      <td>...</td>\n",
       "      <td>...</td>\n",
       "      <td>...</td>\n",
       "      <td>...</td>\n",
       "    </tr>\n",
       "    <tr>\n",
       "      <th>758</th>\n",
       "      <td>2020</td>\n",
       "      <td>5</td>\n",
       "      <td>2020.3716</td>\n",
       "      <td>418.17</td>\n",
       "      <td>418.17</td>\n",
       "    </tr>\n",
       "    <tr>\n",
       "      <th>759</th>\n",
       "      <td>2020</td>\n",
       "      <td>6</td>\n",
       "      <td>2020.4563</td>\n",
       "      <td>416.11</td>\n",
       "      <td>416.11</td>\n",
       "    </tr>\n",
       "    <tr>\n",
       "      <th>760</th>\n",
       "      <td>2020</td>\n",
       "      <td>7</td>\n",
       "      <td>2020.5383</td>\n",
       "      <td>407.54</td>\n",
       "      <td>407.54</td>\n",
       "    </tr>\n",
       "    <tr>\n",
       "      <th>761</th>\n",
       "      <td>2020</td>\n",
       "      <td>8</td>\n",
       "      <td>2020.6230</td>\n",
       "      <td>406.61</td>\n",
       "      <td>406.61</td>\n",
       "    </tr>\n",
       "    <tr>\n",
       "      <th>762</th>\n",
       "      <td>2020</td>\n",
       "      <td>9</td>\n",
       "      <td>2020.7077</td>\n",
       "      <td>410.87</td>\n",
       "      <td>410.87</td>\n",
       "    </tr>\n",
       "  </tbody>\n",
       "</table>\n",
       "<p>471 rows × 5 columns</p>\n",
       "</div>"
      ],
      "text/plain": [
       "       Yr  Mn       Date     CO2  newCO2\n",
       "292  1981   7  1981.5370  337.94  337.94\n",
       "293  1981   8  1981.6219  336.44  336.44\n",
       "294  1981   9  1981.7068  -99.99  -99.99\n",
       "295  1981  10  1981.7890  339.23  339.23\n",
       "296  1981  11  1981.8740  340.16  340.16\n",
       "..    ...  ..        ...     ...     ...\n",
       "758  2020   5  2020.3716  418.17  418.17\n",
       "759  2020   6  2020.4563  416.11  416.11\n",
       "760  2020   7  2020.5383  407.54  407.54\n",
       "761  2020   8  2020.6230  406.61  406.61\n",
       "762  2020   9  2020.7077  410.87  410.87\n",
       "\n",
       "[471 rows x 5 columns]"
      ]
     },
     "execution_count": 6,
     "metadata": {},
     "output_type": "execute_result"
    }
   ],
   "source": [
    "#Añadimos una nueva columna que contendrá los nuevos valores de CO2\n",
    "data_f['newCO2']= data_f.CO2.values\n",
    "data_f"
   ]
  },
  {
   "cell_type": "code",
   "execution_count": 7,
   "metadata": {},
   "outputs": [
    {
     "name": "stdout",
     "output_type": "stream",
     "text": [
      "[2, 7, 13, 15, 53, 54, 61, 114, 136, 173, 185, 208, 258, 280, 305, 316, 320, 326, 336, 352, 362, 365, 388, 402, 415, 449, 458, 462]\n",
      "Cantidad de valores negativos 28\n"
     ]
    }
   ],
   "source": [
    "#Comprobamos la posición y cantidad de los valores negativos dentro de la columna 'CO2'\n",
    "pos_neg=[]\n",
    "for i in range(len(data_f)):\n",
    "    if data_f.CO2.values[i] < 0:\n",
    "        pos_neg.append(i)\n",
    "print(pos_neg)\n",
    "print('Cantidad de valores negativos', len(pos_neg))"
   ]
  },
  {
   "cell_type": "code",
   "execution_count": 8,
   "metadata": {},
   "outputs": [],
   "source": [
    "### Creación de bloques ###\n",
    "###########################\n",
    "\n",
    "#Inicializamos contadores:\n",
    "i=0; j=0; bloque=[]; date=[]; t=0\n",
    "#Ejecutamos los pasos mientras i sea menor al tamaño del dataset recién creado\n",
    "while i < len(data_f):   \n",
    "    #Si el valor en la posición 'i' es negativo, creamos el bloque\n",
    "    if data_f.CO2.values[i] < 0:\n",
    "        #añadimos el valor inmediatamente anterior al valor negativo como inicio del bloque\n",
    "        bloque.append(data_f.CO2.values[i-1])\n",
    "        #añadimos la fecha correspondiente a ese valor a un bloque de fechas\n",
    "        date.append(data_f.Date.values[i-1])\n",
    "        #Guardamos la posición del primer valor negativo dentro del bloque\n",
    "        pos=i\n",
    "        #Creamos un nuevo ciclo que ejecute los procesos siguientes siempre y cuando los valores a recorrer sean negativos, partimos de la posición 'i'\n",
    "        j=i\n",
    "        while data_f.CO2.values[j] < 0: \n",
    "            #guardamos los valores negativos en el bloque\n",
    "            bloque.append(data_f.CO2.values[j])\n",
    "            #guardamos las fechas correspondientes\n",
    "            date.append(data_f.Date.values[j]) \n",
    "            j=j+1\n",
    "        #Si se deja de cumplir la condición, es porque estamos en un positivo, guardamos ese valor positivo como final del intervalo y guardamos su fecha correspondiente\n",
    "        else:\n",
    "            bloque.append(data_f.CO2.values[j])\n",
    "            date.append(data_f.Date.values[j])\n",
    "            i=i+1\n",
    "    ##### Ajuste de los nuevos valores:  #####\n",
    "    ################################################\n",
    "\n",
    "    #Ejecutamos el proceso solo si el bloque no está vacío\n",
    "    if bool(bloque) == True:\n",
    "        #Límite inferior del bloque\n",
    "        bloque_inf= bloque[0]\n",
    "        #Límite superior del bloque\n",
    "        bloque_sup= bloque[-1]\n",
    "        #Fecha inferior del bloque de fechas\n",
    "        date_inf= date[0]\n",
    "        #Fecha superior del bloque de fechas\n",
    "        date_sup= date[-1]\n",
    "         \n",
    "        #Si el tamaño del bloque es 3, el ajuste de valores es inmediato.\n",
    "        if len(bloque) == 3:\n",
    "            t= date[1]\n",
    "            data_f.newCO2.values[pos] =(1/(date_sup - date_inf)) * ( (t- date_inf)*bloque_sup - (t - date_sup)*bloque_inf) \n",
    "        #Si el tamaño del bloque es 4, el ajuste de valores se hace para dos valores consecutivos: 'pos' y 'pos + 1'\n",
    "        else:\n",
    "            t= date[1]\n",
    "            data_f.newCO2.values[pos]  =(1/(date_sup - date_inf)) * ( (t-date_inf)* bloque_sup - (t - date_sup)* bloque_inf)\n",
    "\n",
    "            t= date[2]\n",
    "            data_f.newCO2.values[pos+1] =(1/(date_sup - date_inf)) * ( (t-date_inf)* bloque_sup - (t - date_sup)* bloque_inf)\n",
    "    #Vaciamos las variables al término del proceso para que no se concatenen al ejecutar el proceso nuevamente.   \n",
    "    bloque=[]; date=[]\n",
    "    i=i+1; j=0;"
   ]
  },
  {
   "cell_type": "code",
   "execution_count": 9,
   "metadata": {},
   "outputs": [
    {
     "data": {
      "text/html": [
       "<div>\n",
       "<style scoped>\n",
       "    .dataframe tbody tr th:only-of-type {\n",
       "        vertical-align: middle;\n",
       "    }\n",
       "\n",
       "    .dataframe tbody tr th {\n",
       "        vertical-align: top;\n",
       "    }\n",
       "\n",
       "    .dataframe thead th {\n",
       "        text-align: right;\n",
       "    }\n",
       "</style>\n",
       "<table border=\"1\" class=\"dataframe\">\n",
       "  <thead>\n",
       "    <tr style=\"text-align: right;\">\n",
       "      <th></th>\n",
       "      <th>Yr</th>\n",
       "      <th>Mn</th>\n",
       "      <th>Date</th>\n",
       "      <th>CO2</th>\n",
       "      <th>newCO2</th>\n",
       "    </tr>\n",
       "  </thead>\n",
       "  <tbody>\n",
       "    <tr>\n",
       "      <th>292</th>\n",
       "      <td>1981</td>\n",
       "      <td>7</td>\n",
       "      <td>1981.5370</td>\n",
       "      <td>337.94</td>\n",
       "      <td>337.94000</td>\n",
       "    </tr>\n",
       "    <tr>\n",
       "      <th>293</th>\n",
       "      <td>1981</td>\n",
       "      <td>8</td>\n",
       "      <td>1981.6219</td>\n",
       "      <td>336.44</td>\n",
       "      <td>336.44000</td>\n",
       "    </tr>\n",
       "    <tr>\n",
       "      <th>294</th>\n",
       "      <td>1981</td>\n",
       "      <td>9</td>\n",
       "      <td>1981.7068</td>\n",
       "      <td>-99.99</td>\n",
       "      <td>337.85754</td>\n",
       "    </tr>\n",
       "    <tr>\n",
       "      <th>295</th>\n",
       "      <td>1981</td>\n",
       "      <td>10</td>\n",
       "      <td>1981.7890</td>\n",
       "      <td>339.23</td>\n",
       "      <td>339.23000</td>\n",
       "    </tr>\n",
       "    <tr>\n",
       "      <th>296</th>\n",
       "      <td>1981</td>\n",
       "      <td>11</td>\n",
       "      <td>1981.8740</td>\n",
       "      <td>340.16</td>\n",
       "      <td>340.16000</td>\n",
       "    </tr>\n",
       "    <tr>\n",
       "      <th>...</th>\n",
       "      <td>...</td>\n",
       "      <td>...</td>\n",
       "      <td>...</td>\n",
       "      <td>...</td>\n",
       "      <td>...</td>\n",
       "    </tr>\n",
       "    <tr>\n",
       "      <th>758</th>\n",
       "      <td>2020</td>\n",
       "      <td>5</td>\n",
       "      <td>2020.3716</td>\n",
       "      <td>418.17</td>\n",
       "      <td>418.17000</td>\n",
       "    </tr>\n",
       "    <tr>\n",
       "      <th>759</th>\n",
       "      <td>2020</td>\n",
       "      <td>6</td>\n",
       "      <td>2020.4563</td>\n",
       "      <td>416.11</td>\n",
       "      <td>416.11000</td>\n",
       "    </tr>\n",
       "    <tr>\n",
       "      <th>760</th>\n",
       "      <td>2020</td>\n",
       "      <td>7</td>\n",
       "      <td>2020.5383</td>\n",
       "      <td>407.54</td>\n",
       "      <td>407.54000</td>\n",
       "    </tr>\n",
       "    <tr>\n",
       "      <th>761</th>\n",
       "      <td>2020</td>\n",
       "      <td>8</td>\n",
       "      <td>2020.6230</td>\n",
       "      <td>406.61</td>\n",
       "      <td>406.61000</td>\n",
       "    </tr>\n",
       "    <tr>\n",
       "      <th>762</th>\n",
       "      <td>2020</td>\n",
       "      <td>9</td>\n",
       "      <td>2020.7077</td>\n",
       "      <td>410.87</td>\n",
       "      <td>410.87000</td>\n",
       "    </tr>\n",
       "  </tbody>\n",
       "</table>\n",
       "<p>471 rows × 5 columns</p>\n",
       "</div>"
      ],
      "text/plain": [
       "       Yr  Mn       Date     CO2     newCO2\n",
       "292  1981   7  1981.5370  337.94  337.94000\n",
       "293  1981   8  1981.6219  336.44  336.44000\n",
       "294  1981   9  1981.7068  -99.99  337.85754\n",
       "295  1981  10  1981.7890  339.23  339.23000\n",
       "296  1981  11  1981.8740  340.16  340.16000\n",
       "..    ...  ..        ...     ...        ...\n",
       "758  2020   5  2020.3716  418.17  418.17000\n",
       "759  2020   6  2020.4563  416.11  416.11000\n",
       "760  2020   7  2020.5383  407.54  407.54000\n",
       "761  2020   8  2020.6230  406.61  406.61000\n",
       "762  2020   9  2020.7077  410.87  410.87000\n",
       "\n",
       "[471 rows x 5 columns]"
      ]
     },
     "execution_count": 9,
     "metadata": {},
     "output_type": "execute_result"
    }
   ],
   "source": [
    "#Imprimimos la nueva tabla:\n",
    "data_f"
   ]
  },
  {
   "cell_type": "code",
   "execution_count": 10,
   "metadata": {},
   "outputs": [
    {
     "data": {
      "text/plain": [
       "Yr        2020.000000\n",
       "Mn           1.000000\n",
       "Date      2020.041000\n",
       "CO2        -99.990000\n",
       "newCO2     419.161693\n",
       "Name: 754, dtype: float64"
      ]
     },
     "execution_count": 10,
     "metadata": {},
     "output_type": "execute_result"
    }
   ],
   "source": [
    "#Nueva tabla actualizada, comprobar con los valores de la lista \"pos_neg\" creada anteriormente los nuevos valores.\n",
    "#2, 7, 13, 15, 53, 54, 61, 114, 136, 173, 185, 208, 258, 280, 305, 316, 320, 326, 336, 352, 362, 365, 388, 402, 415, 449, 458, 462\n",
    "data_f.iloc[462]"
   ]
  },
  {
   "cell_type": "code",
   "execution_count": 11,
   "metadata": {},
   "outputs": [
    {
     "name": "stdout",
     "output_type": "stream",
     "text": [
      "       Yr  Mn       Date     CO2     newCO2  Polinomial\n",
      "292  1981   7  1981.5370  337.94  337.94000      0.0000\n",
      "293  1981   8  1981.6219  336.44  336.44000      0.0849\n",
      "294  1981   9  1981.7068  -99.99  337.85754      0.1698\n",
      "295  1981  10  1981.7890  339.23  339.23000      0.2520\n",
      "296  1981  11  1981.8740  340.16  340.16000      0.3370\n",
      "..    ...  ..        ...     ...        ...         ...\n",
      "758  2020   5  2020.3716  418.17  418.17000     38.8346\n",
      "759  2020   6  2020.4563  416.11  416.11000     38.9193\n",
      "760  2020   7  2020.5383  407.54  407.54000     39.0013\n",
      "761  2020   8  2020.6230  406.61  406.61000     39.0860\n",
      "762  2020   9  2020.7077  410.87  410.87000     39.1707\n",
      "\n",
      "[471 rows x 6 columns]\n"
     ]
    },
    {
     "name": "stderr",
     "output_type": "stream",
     "text": [
      "C:\\Users\\Javiera Carrasco\\AppData\\Local\\Temp\\ipykernel_30220\\2522236378.py:2: SettingWithCopyWarning: \n",
      "A value is trying to be set on a copy of a slice from a DataFrame.\n",
      "Try using .loc[row_indexer,col_indexer] = value instead\n",
      "\n",
      "See the caveats in the documentation: https://pandas.pydata.org/pandas-docs/stable/user_guide/indexing.html#returning-a-view-versus-a-copy\n",
      "  data_f['Polinomial'] = data_f.apply(lambda x: x['Date'] - data_f.Date.values[0], axis = 1)\n"
     ]
    }
   ],
   "source": [
    "import pandas as pd\n",
    "data_f['Polinomial'] = data_f.apply(lambda x: x['Date'] - data_f.Date.values[0], axis = 1)\n",
    "print(data_f)"
   ]
  },
  {
   "cell_type": "code",
   "execution_count": 13,
   "metadata": {},
   "outputs": [
    {
     "name": "stdout",
     "output_type": "stream",
     "text": [
      "Valor estimado de o0 : 373.878009372009\n",
      "Valor estimado de o1 : 0\n"
     ]
    },
    {
     "name": "stderr",
     "output_type": "stream",
     "text": [
      "c:\\Users\\Javiera Carrasco\\anaconda3\\envs\\Herraminetas\\lib\\site-packages\\scipy\\optimize\\_minpack_py.py:833: OptimizeWarning: Covariance of the parameters could not be estimated\n",
      "  warnings.warn('Covariance of the parameters could not be estimated',\n"
     ]
    },
    {
     "data": {
      "image/png": "[encoded data removed]",
      "text/plain": [
       "<Figure size 432x288 with 1 Axes>"
      ]
     },
     "metadata": {
      "needs_background": "light"
     },
     "output_type": "display_data"
    },
    {
     "ename": "ValueError",
     "evalue": "operands could not be broadcast together with shapes (471,) (40,) ",
     "output_type": "error",
     "traceback": [
      "\u001b[1;31m---------------------------------------------------------------------------\u001b[0m",
      "\u001b[1;31mValueError\u001b[0m                                Traceback (most recent call last)",
      "\u001b[1;32mc:\\Users\\Javiera Carrasco\\Desktop\\Uni\\HERRAMIENTAS MINOR\\MODULO PYTHON\\Clase Control de Versiones\\Tarea\\Grupo2\\TareaGrupo2_JC.ipynb Cell 12'\u001b[0m in \u001b[0;36m<cell line: 38>\u001b[1;34m()\u001b[0m\n\u001b[0;32m     <a href='vscode-notebook-cell:/c%3A/Users/Javiera%20Carrasco/Desktop/Uni/HERRAMIENTAS%20MINOR/MODULO%20PYTHON/Clase%20Control%20de%20Versiones/Tarea/Grupo2/TareaGrupo2_JC.ipynb#ch0000011?line=35'>36</a>\u001b[0m x\u001b[39m=\u001b[39mnp\u001b[39m.\u001b[39marray(x)\n\u001b[0;32m     <a href='vscode-notebook-cell:/c%3A/Users/Javiera%20Carrasco/Desktop/Uni/HERRAMIENTAS%20MINOR/MODULO%20PYTHON/Clase%20Control%20de%20Versiones/Tarea/Grupo2/TareaGrupo2_JC.ipynb#ch0000011?line=36'>37</a>\u001b[0m x_new_value\u001b[39m=\u001b[39mnp\u001b[39m.\u001b[39marray(x_new_value)\n\u001b[1;32m---> <a href='vscode-notebook-cell:/c%3A/Users/Javiera%20Carrasco/Desktop/Uni/HERRAMIENTAS%20MINOR/MODULO%20PYTHON/Clase%20Control%20de%20Versiones/Tarea/Grupo2/TareaGrupo2_JC.ipynb#ch0000011?line=37'>38</a>\u001b[0m ECM\u001b[39m=\u001b[39m(np\u001b[39m.\u001b[39msquare(x\u001b[39m-\u001b[39;49mx_new_value))\u001b[39m.\u001b[39mmean()\n\u001b[0;32m     <a href='vscode-notebook-cell:/c%3A/Users/Javiera%20Carrasco/Desktop/Uni/HERRAMIENTAS%20MINOR/MODULO%20PYTHON/Clase%20Control%20de%20Versiones/Tarea/Grupo2/TareaGrupo2_JC.ipynb#ch0000011?line=38'>39</a>\u001b[0m \u001b[39mprint\u001b[39m(ECM)\n",
      "\u001b[1;31mValueError\u001b[0m: operands could not be broadcast together with shapes (471,) (40,) "
     ]
    }
   ],
   "source": [
    "import numpy as np\n",
    "import matplotlib.pyplot as plt\n",
    "import scipy\n",
    "from scipy import optimize\n",
    "from scipy.optimize import curve_fit\n",
    "\n",
    "#Para n=0\n",
    "\n",
    "def function(x,o0,o1=0):\n",
    "   return o0+(x*0)\n",
    "\n",
    "x=data_f['Polinomial']\n",
    "x=np.array(x)\n",
    "y=data_f['newCO2']\n",
    "y=np.array(y)\n",
    "\n",
    "#x = data_f.Polinomial\n",
    "#y = data_f.newCO2\n",
    "\n",
    "popt,cov=scipy.optimize.curve_fit(function, x, y)\n",
    "o0,o1= popt\n",
    "\n",
    "x_new_value = np.arange(min(x), 40, 1)\n",
    "y_new_value = function(x_new_value, o0,0)\n",
    "\n",
    "plt.scatter(x,y,color=\"blue\",label='Datos originales')\n",
    "plt.plot(x_new_value,y_new_value,color=\"red\",label='Datos ajustados')\n",
    "plt.xlabel('t - T')\n",
    "plt.ylabel('newCO2')\n",
    "print(\"Valor estimado de o0 : \"+ str(o0))\n",
    "print(\"Valor estimado de o1 : \" + str(0))\n",
    "plt.show()\n",
    "\n",
    "#Error Cuadratico medio\n",
    "\n",
    "#Hay que corregir\n",
    "x=np.array(x)\n",
    "x_new_value=np.array(x_new_value)\n",
    "ECM=(np.square(x-x_new_value)).mean()\n",
    "print(ECM)"
   ]
  },
  {
   "cell_type": "code",
   "execution_count": 14,
   "metadata": {},
   "outputs": [
    {
     "name": "stdout",
     "output_type": "stream",
     "text": [
      "Valor estimado de o0 : 337.0240584714833\n",
      "Valor estimado de o1 : 1.8816964836374035\n"
     ]
    },
    {
     "data": {
      "image/png": "[encoded data removed]",
      "text/plain": [
       "<Figure size 432x288 with 1 Axes>"
      ]
     },
     "metadata": {
      "needs_background": "light"
     },
     "output_type": "display_data"
    },
    {
     "ename": "ValueError",
     "evalue": "operands could not be broadcast together with shapes (471,) (400,) ",
     "output_type": "error",
     "traceback": [
      "\u001b[1;31m---------------------------------------------------------------------------\u001b[0m",
      "\u001b[1;31mValueError\u001b[0m                                Traceback (most recent call last)",
      "\u001b[1;32mc:\\Users\\Javiera Carrasco\\Desktop\\Uni\\HERRAMIENTAS MINOR\\MODULO PYTHON\\Clase Control de Versiones\\Tarea\\Grupo2\\TareaGrupo2_JC.ipynb Cell 13'\u001b[0m in \u001b[0;36m<cell line: 30>\u001b[1;34m()\u001b[0m\n\u001b[0;32m     <a href='vscode-notebook-cell:/c%3A/Users/Javiera%20Carrasco/Desktop/Uni/HERRAMIENTAS%20MINOR/MODULO%20PYTHON/Clase%20Control%20de%20Versiones/Tarea/Grupo2/TareaGrupo2_JC.ipynb#ch0000012?line=27'>28</a>\u001b[0m x\u001b[39m=\u001b[39mnp\u001b[39m.\u001b[39marray(x)\n\u001b[0;32m     <a href='vscode-notebook-cell:/c%3A/Users/Javiera%20Carrasco/Desktop/Uni/HERRAMIENTAS%20MINOR/MODULO%20PYTHON/Clase%20Control%20de%20Versiones/Tarea/Grupo2/TareaGrupo2_JC.ipynb#ch0000012?line=28'>29</a>\u001b[0m x_new_value\u001b[39m=\u001b[39mnp\u001b[39m.\u001b[39marray(x_new_value)\n\u001b[1;32m---> <a href='vscode-notebook-cell:/c%3A/Users/Javiera%20Carrasco/Desktop/Uni/HERRAMIENTAS%20MINOR/MODULO%20PYTHON/Clase%20Control%20de%20Versiones/Tarea/Grupo2/TareaGrupo2_JC.ipynb#ch0000012?line=29'>30</a>\u001b[0m ECM\u001b[39m=\u001b[39m(np\u001b[39m.\u001b[39msquare(x\u001b[39m-\u001b[39;49mx_new_value))\u001b[39m.\u001b[39mmean()\n\u001b[0;32m     <a href='vscode-notebook-cell:/c%3A/Users/Javiera%20Carrasco/Desktop/Uni/HERRAMIENTAS%20MINOR/MODULO%20PYTHON/Clase%20Control%20de%20Versiones/Tarea/Grupo2/TareaGrupo2_JC.ipynb#ch0000012?line=30'>31</a>\u001b[0m \u001b[39mprint\u001b[39m(ECM)\n",
      "\u001b[1;31mValueError\u001b[0m: operands could not be broadcast together with shapes (471,) (400,) "
     ]
    }
   ],
   "source": [
    "#Para n=1\n",
    "\n",
    "def function(x,o0,o1):\n",
    "   return o0+(x*o1)\n",
    "\n",
    "x=data_f['Polinomial']\n",
    "x=np.array(x)\n",
    "y=data_f['newCO2']\n",
    "y=np.array(y)\n",
    "\n",
    "#x = data_f.Polinomial\n",
    "#y = data_f.newCO2\n",
    "\n",
    "popt,cov=scipy.optimize.curve_fit(function, x, y)\n",
    "o0,o1= popt\n",
    "\n",
    "x_new_value = np.arange(min(x), 40, 0.1)\n",
    "y_new_value = function(x_new_value, o0,o1)\n",
    "\n",
    "plt.scatter(x,y,color=\"blue\",label='Datos originales')\n",
    "plt.plot(x_new_value,y_new_value,color=\"red\",label='Datos ajustados')\n",
    "plt.xlabel('t - T')\n",
    "plt.ylabel('newCO2')\n",
    "print(\"Valor estimado de o0 : \"+ str(o0))\n",
    "print(\"Valor estimado de o1 : \" + str(o1))\n",
    "plt.show()\n",
    "\n",
    "#Error Cuadratico medio\n",
    "\n",
    "#Hay que corregir\n",
    "x=np.array(x)\n",
    "x_new_value=np.array(x_new_value)\n",
    "ECM=(np.square(x-x_new_value)).mean()\n",
    "print(ECM)"
   ]
  },
  {
   "cell_type": "code",
   "execution_count": null,
   "metadata": {},
   "outputs": [
    {
     "name": "stdout",
     "output_type": "stream",
     "text": [
      "Valor estimado de o0 : 341.9167008207019\n",
      "Valor estimado de o1 : 1.1307526150794867\n",
      "Valor estimado de o2 : 0.01917092052833566\n"
     ]
    },
    {
     "data": {
      "image/png": "[encoded data removed]",
      "text/plain": [
       "<Figure size 432x288 with 1 Axes>"
      ]
     },
     "metadata": {
      "needs_background": "light"
     },
     "output_type": "display_data"
    }
   ],
   "source": [
    "#Para n=2\n",
    "def function(x,o0,o1,o2):\n",
    "   return o0+(x*o1)+(o2*x**2)\n",
    "\n",
    "x=data_f['Polinomial']\n",
    "x=np.array(x)\n",
    "y=data_f['newCO2']\n",
    "y=np.array(y)\n",
    "\n",
    "#x = data_f.Polinomial\n",
    "#y = data_f.newCO2\n",
    "\n",
    "popt,cov=scipy.optimize.curve_fit(function, x, y)\n",
    "o0,o1,o2= popt\n",
    "\n",
    "x_new_value = np.arange(min(x), 40, 0.1)\n",
    "y_new_value = function(x_new_value, o0,o1,o2)\n",
    "\n",
    "plt.scatter(x,y,color=\"blue\",label='Datos originales')\n",
    "plt.plot(x_new_value,y_new_value,color=\"red\",label='Datos ajustados')\n",
    "plt.xlabel('t - T')\n",
    "plt.ylabel('newCO2')\n",
    "print(\"Valor estimado de o0 : \"+ str(o0))\n",
    "print(\"Valor estimado de o1 : \" + str(o1))\n",
    "print(\"Valor estimado de o2 : \"+ str(o2))\n",
    "plt.show()\n",
    "\n",
    "#Error Cuadratico medio\n",
    "\n",
    "#Hay que corregir\n",
    "x=np.array(x)\n",
    "x_new_value=np.array(x_new_value)\n",
    "ECM=(np.square(x-x_new_value)).mean()\n",
    "print(ECM)"
   ]
  },
  {
   "cell_type": "code",
   "execution_count": null,
   "metadata": {},
   "outputs": [
    {
     "name": "stdout",
     "output_type": "stream",
     "text": [
      "Valor estimado de o0 : 341.1469294560051\n",
      "Valor estimado de o1 : 1.367767449799894\n",
      "Valor estimado de o2 : 0.004028719318081884\n",
      "Valor estimado de o3 : 0.00025771111302310085\n"
     ]
    },
    {
     "data": {
      "image/png": "[encoded data removed]",
      "text/plain": [
       "<Figure size 432x288 with 1 Axes>"
      ]
     },
     "metadata": {
      "needs_background": "light"
     },
     "output_type": "display_data"
    }
   ],
   "source": [
    "#Para n=3\n",
    "def function(x,o0,o1,o2,o3):\n",
    "   return o0+(x*o1)+(o2*x**2)+(o3*x**3)\n",
    "\n",
    "x=data_f['Polinomial']\n",
    "x=np.array(x)\n",
    "y=data_f['newCO2']\n",
    "y=np.array(y)\n",
    "\n",
    "#x = data_f.Polinomial\n",
    "#y = data_f.newCO2\n",
    "\n",
    "popt,cov=scipy.optimize.curve_fit(function, x, y)\n",
    "o0,o1,o2,o3= popt\n",
    "\n",
    "x_new_value = np.arange(min(x), 40, 0.1)\n",
    "y_new_value = function(x_new_value, o0,o1,o2,o3)\n",
    "\n",
    "plt.scatter(x,y,color=\"blue\",label='Datos originales')\n",
    "plt.plot(x_new_value,y_new_value,color=\"red\",label='Datos ajustados')\n",
    "plt.xlabel('t - T')\n",
    "plt.ylabel('newCO2')\n",
    "print(\"Valor estimado de o0 : \"+ str(o0))\n",
    "print(\"Valor estimado de o1 : \" + str(o1))\n",
    "print(\"Valor estimado de o2 : \"+ str(o2))\n",
    "print(\"Valor estimado de o3 : \" + str(o3))\n",
    "plt.show()\n",
    "\n",
    "#Error Cuadratico medio\n",
    "\n",
    "#Hay que corregir\n",
    "x=np.array(x)\n",
    "x_new_value=np.array(x_new_value)\n",
    "ECM=(np.square(x-x_new_value)).mean()\n",
    "print(ECM)"
   ]
  },
  {
   "cell_type": "code",
   "execution_count": null,
   "metadata": {},
   "outputs": [
    {
     "name": "stdout",
     "output_type": "stream",
     "text": [
      "Valor estimado de o0 : 340.26766540360666\n",
      "Valor estimado de o1 : 1.8208195247815075\n",
      "Valor estimado de o2 : -0.04814090234891901\n",
      "Valor estimado de o3 : 0.0023308556966113105\n",
      "Valor estimado de o4 : -2.646271402377511e-05\n"
     ]
    },
    {
     "data": {
      "image/png": "[encoded data removed]",
      "text/plain": [
       "<Figure size 432x288 with 1 Axes>"
      ]
     },
     "metadata": {
      "needs_background": "light"
     },
     "output_type": "display_data"
    }
   ],
   "source": [
    "#Para n=4\n",
    "import numpy as np\n",
    "import matplotlib.pyplot as plt\n",
    "import scipy\n",
    "from scipy import optimize\n",
    "from scipy.optimize import curve_fit\n",
    "\n",
    "def function(x,o0,o1,o2,o3,o4):\n",
    "    return o0+(x*o1)+(o2*x**2)+(o3*x**3)+(o4*x**4)\n",
    "\n",
    "x=data_f['Polinomial']\n",
    "x=np.array(x)\n",
    "y=data_f['newCO2']\n",
    "y=np.array(y)\n",
    "\n",
    "#x = data_f.Polinomial\n",
    "#y = data_f.newCO2\n",
    "    \n",
    "popt,cov=scipy.optimize.curve_fit(function, x, y)\n",
    "o0,o1,o2,o3,o4= popt\n",
    "\n",
    "x_new_value = np.arange(min(x), 40,0.1)\n",
    "y_new_value = function(x_new_value, o0,o1,o2,o3,o4)\n",
    "\n",
    "plt.scatter(x,y,color=\"blue\",label='Datos originales')\n",
    "plt.plot(x_new_value,y_new_value,color=\"red\",label='Datos ajustados')\n",
    "plt.xlabel('t - T')\n",
    "plt.ylabel('newCO2')\n",
    "print(\"Valor estimado de o0 : \"+ str(o0))\n",
    "print(\"Valor estimado de o1 : \" + str(o1))\n",
    "print(\"Valor estimado de o2 : \"+ str(o2))\n",
    "print(\"Valor estimado de o3 : \" + str(o3))\n",
    "print(\"Valor estimado de o4 : \" + str(o4))\n",
    "plt.show()\n",
    "\n",
    "#Error Cuadratico medio\n",
    "\n",
    "#Hay que corregir\n",
    "x=np.array(x)\n",
    "x_new_value=np.array(x_new_value)\n",
    "ECM=(np.square(x-x_new_value)).mean()\n",
    "print(ECM)"
   ]
  },
  {
   "cell_type": "code",
   "execution_count": null,
   "metadata": {},
   "outputs": [
    {
     "name": "stdout",
     "output_type": "stream",
     "text": [
      "Estimated value of a : 1.8816964836374035\n",
      "Estimated value of b : 337.0240584714833\n"
     ]
    },
    {
     "data": {
      "image/png": "[encoded data removed]",
      "text/plain": [
       "<Figure size 432x288 with 1 Axes>"
      ]
     },
     "metadata": {
      "needs_background": "light"
     },
     "output_type": "display_data"
    }
   ],
   "source": [
    "#Original\n",
    "def function(x, a, b):\n",
    "   return a*x + b\n",
    "\n",
    "x = data_f.Polinomial\n",
    "y = data_f.newCO2\n",
    "\n",
    "popt,cov = scipy.optimize.curve_fit(function, x, y)\n",
    "a,b= popt\n",
    "\n",
    "x_new_value = np.arange(min(x), 40, 1)\n",
    "y_new_value = function(x_new_value, a, b)\n",
    "\n",
    "plt.scatter(x,y,color=\"blue\",label='Datos originales')\n",
    "plt.plot(x_new_value,y_new_value,color=\"red\",label='Datos ajustados')\n",
    "plt.xlabel('X')\n",
    "plt.ylabel('Y')\n",
    "print(\"Estimated value of a : \"+ str(a))\n",
    "print(\"Estimated value of b : \" + str(b))\n",
    "plt.show()"
   ]
  },
  {
   "cell_type": "code",
   "execution_count": null,
   "metadata": {},
   "outputs": [
    {
     "data": {
      "image/png": "[encoded data removed]",
      "text/plain": [
       "<Figure size 432x288 with 6 Axes>"
      ]
     },
     "metadata": {
      "needs_background": "light"
     },
     "output_type": "display_data"
    }
   ],
   "source": [
    "# Grafica de prueba \n",
    "from sklearn.linear_model import LinearRegression \n",
    "from sklearn.preprocessing import PolynomialFeatures\n",
    "from sklearn.model_selection import train_test_split\n",
    "import matplotlib.pyplot as plt \n",
    "import pandas as pd\n",
    "import numpy as np\n",
    "\n",
    "x=data_f['Polinomial']\n",
    "y=data_f['newCO2']\n",
    "\n",
    "x1=data_f['Polinomial']\n",
    "y1=data_f['newCO2']\n",
    "\n",
    "X_train,X_test,Y_train,y_test=train_test_split(x,y,test_size=0.25)\n",
    "X_train=X_train.values.reshape([X_train.values.shape[0],1])\n",
    "X_test=X_test.values.reshape([X_test.values.shape[0],1])\n",
    "\n",
    "titles=['Grado 0','Grado 2','Grado 3','Grado 4','Grado 5','Grado 6','Grado 7']\n",
    "colors=['teal','pink', 'hotpink','orchid','aqua','green','blue']\n",
    "\n",
    "for i in range(1,7):\n",
    "    poly=PolynomialFeatures(degree=i)\n",
    "    X_poly=poly.fit_transform(X_train)\n",
    "    Xt_poly=poly.fit_transform(X_test)\n",
    "    polymodel=LinearRegression()\n",
    "    polymodel.fit(X_poly,Y_train)\n",
    "    pred=polymodel.predict(X_poly)\n",
    "    pred2=polymodel.predict(Xt_poly)\n",
    "    xt,yt=zip(*sorted(zip(X_test,pred2)))\n",
    "    X,y=zip(*sorted(zip(X_train,pred)))\n",
    "    \n",
    "    plt.subplot(2,3,i)\n",
    "    plt.plot(X,y,'-',color=colors[i],label=titles[i],markersize=2)\n",
    "    plt.plot(xt,yt,'+',color='turquoise',markersize=5)\n",
    "    plt.plot(x1,y1,'*',color='crimson',markersize=.5)\n",
    "    plt.legend(loc=2)"
   ]
  },
  {
   "cell_type": "code",
   "execution_count": 16,
   "metadata": {},
   "outputs": [
    {
     "ename": "ValueError",
     "evalue": "operands could not be broadcast together with shapes (471,) (400,) ",
     "output_type": "error",
     "traceback": [
      "\u001b[1;31m---------------------------------------------------------------------------\u001b[0m",
      "\u001b[1;31mValueError\u001b[0m                                Traceback (most recent call last)",
      "\u001b[1;32mc:\\Users\\Javiera Carrasco\\Desktop\\Uni\\HERRAMIENTAS MINOR\\MODULO PYTHON\\Clase Control de Versiones\\Tarea\\Grupo2\\TareaGrupo2_JC.ipynb Cell 19'\u001b[0m in \u001b[0;36m<cell line: 5>\u001b[1;34m()\u001b[0m\n\u001b[0;32m      <a href='vscode-notebook-cell:/c%3A/Users/Javiera%20Carrasco/Desktop/Uni/HERRAMIENTAS%20MINOR/MODULO%20PYTHON/Clase%20Control%20de%20Versiones/Tarea/Grupo2/TareaGrupo2_JC.ipynb#ch0000018?line=2'>3</a>\u001b[0m x\u001b[39m=\u001b[39mnp\u001b[39m.\u001b[39marray(x)\n\u001b[0;32m      <a href='vscode-notebook-cell:/c%3A/Users/Javiera%20Carrasco/Desktop/Uni/HERRAMIENTAS%20MINOR/MODULO%20PYTHON/Clase%20Control%20de%20Versiones/Tarea/Grupo2/TareaGrupo2_JC.ipynb#ch0000018?line=3'>4</a>\u001b[0m x_new_value\u001b[39m=\u001b[39mnp\u001b[39m.\u001b[39marray(x_new_value)\n\u001b[1;32m----> <a href='vscode-notebook-cell:/c%3A/Users/Javiera%20Carrasco/Desktop/Uni/HERRAMIENTAS%20MINOR/MODULO%20PYTHON/Clase%20Control%20de%20Versiones/Tarea/Grupo2/TareaGrupo2_JC.ipynb#ch0000018?line=4'>5</a>\u001b[0m ECM\u001b[39m=\u001b[39m(np\u001b[39m.\u001b[39msquare(x\u001b[39m-\u001b[39;49mx_new_value))\u001b[39m.\u001b[39mmean()\n\u001b[0;32m      <a href='vscode-notebook-cell:/c%3A/Users/Javiera%20Carrasco/Desktop/Uni/HERRAMIENTAS%20MINOR/MODULO%20PYTHON/Clase%20Control%20de%20Versiones/Tarea/Grupo2/TareaGrupo2_JC.ipynb#ch0000018?line=5'>6</a>\u001b[0m \u001b[39mprint\u001b[39m(ECM)\n",
      "\u001b[1;31mValueError\u001b[0m: operands could not be broadcast together with shapes (471,) (400,) "
     ]
    }
   ],
   "source": [
    "#Error Cuadratico medio\n",
    "\n",
    "x=np.array(x)\n",
    "x_new_value=np.array(x_new_value)\n",
    "ECM=(np.square(x-x_new_value)).mean()\n",
    "print(ECM)"
   ]
  },
  {
   "cell_type": "code",
   "execution_count": null,
   "metadata": {},
   "outputs": [
    {
     "data": {
      "image/png": "[encoded data removed]",
      "text/plain": [
       "<Figure size 432x288 with 1 Axes>"
      ]
     },
     "metadata": {
      "needs_background": "light"
     },
     "output_type": "display_data"
    }
   ],
   "source": [
    "#Grafica mas bonita  \n",
    "from sklearn.linear_model import LinearRegression \n",
    "from sklearn.preprocessing import PolynomialFeatures\n",
    "from sklearn.model_selection import train_test_split\n",
    "import matplotlib.pyplot as plt \n",
    "import pandas as pd\n",
    "import numpy as np\n",
    "\n",
    "x=data_f['Polinomial']\n",
    "y=data_f['newCO2']\n",
    "\n",
    "x1=data_f['Polinomial']\n",
    "y1=data_f['newCO2']\n",
    "\n",
    "X_train,X_test,Y_train,y_test=train_test_split(x,y,test_size=0.25)\n",
    "X_train=X_train.values.reshape([X_train.values.shape[0],1])\n",
    "X_test=X_test.values.reshape([X_test.values.shape[0],1])\n",
    "\n",
    "grado=3\n",
    "poly=PolynomialFeatures(degree=grado)\n",
    "X_poly=poly.fit_transform(X_train)\n",
    "Xt_poly=poly.fit_transform(X_test)\n",
    "polymodel=LinearRegression()\n",
    "polymodel.fit(X_poly,Y_train)\n",
    "pred=polymodel.predict(X_poly)\n",
    "pred2=polymodel.predict(Xt_poly)\n",
    "xt,yt=zip(*sorted(zip(X_test,pred2)))\n",
    "X,y=zip(*sorted(zip(X_train,pred)))\n",
    "    \n",
    "plt.plot(X,y,'-',color='blue',label='Plolinomio grado'+str(grado) ,markersize=2)\n",
    "plt.plot(xt,yt,'+',color='turquoise',label='Datos ajustados',markersize=5)\n",
    "plt.plot(x1,y1,'*',color='crimson',label='Datos',markersize=.5)\n",
    "plt.xlabel('t - T')\n",
    "plt.ylabel('newCO2')\n",
    "plt.legend(loc=0)\n",
    "plt.show()"
   ]
  }
 ],
 "metadata": {
  "interpreter": {
   "hash": "dd2354dc7480430b22ae8d53bb2f2cb8683a535cfabbbb13322e9b5ff48930a0"
  },
  "kernelspec": {
   "display_name": "Python 3.8.12 ('Herraminetas')",
   "language": "python",
   "name": "python3"
  },
  "language_info": {
   "codemirror_mode": {
    "name": "ipython",
    "version": 3
   },
   "file_extension": ".py",
   "mimetype": "text/x-python",
   "name": "python",
   "nbconvert_exporter": "python",
   "pygments_lexer": "ipython3",
   "version": "3.8.12"
  },
  "orig_nbformat": 4
 },
 "nbformat": 4,
 "nbformat_minor": 2
}
